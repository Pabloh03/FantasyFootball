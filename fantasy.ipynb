{
 "cells": [
  {
   "cell_type": "code",
   "execution_count": null,
   "metadata": {},
   "outputs": [],
   "source": [
    "#Modules to import\n",
    "\n",
    "#For Web Scraping\n",
    "from selenium.webdriver.common.action_chains import ActionChains\n",
    "from selenium import webdriver\n",
    "from selenium.webdriver.chrome.options import Options\n",
    "from selenium.webdriver.common.keys import Keys\n",
    "\n",
    "#For data manipulation\n",
    "import pandas as pd\n",
    "import numpy as np\n",
    "from datetime import date\n",
    "\n",
    "#To slow down the program when scraping\n",
    "import time"
   ]
  },
  {
   "cell_type": "code",
   "execution_count": null,
   "metadata": {},
   "outputs": [],
   "source": [
    "PATH = r'Path\\chromedriver.exe'"
   ]
  },
  {
   "cell_type": "code",
   "execution_count": null,
   "metadata": {},
   "outputs": [],
   "source": [
    "#Initial page request.\n",
    "options = webdriver.ChromeOptions()\n",
    "options.add_argument('javascript.enabled')\n",
    "options.add_argument('--disable-blink-features=AutomationControlled')\n",
    "options.add_experimental_option(\"useAutomationExtension\", False)\n",
    "options.add_experimental_option(\"excludeSwitches\",[\"enable-automation\"])\n",
    "options.add_argument(\"--incognito\")\n",
    "options.add_argument(\"--disable-site-isolation-trials\")\n",
    "options.add_argument('--headless')\n",
    "options.add_argument('--disable-gpu')\n",
    "\n",
    "driver = webdriver.Chrome(executable_path=PATH, options=options)\n",
    "actions = ActionChains(driver)\n",
    "\n",
    "#Initial Column headers. For now headers have to be adjust manually depending on positions. \n",
    "headers = ['WEEK','OPP','FG MADE','FG ATT','PCT','LNG','XP MADE','XP ATT','FPTS/G','FPTS', 'Name', 'Season']\n",
    "stats = pd.DataFrame(columns=headers)\n",
    "stats.loc[len(stats.index)] = np.zeros(len(headers))\n",
    "\n",
    "seasons = ['2019', '2020', '2021']\n",
    "#QB = 2, RB = 3, WR = 4, TE = 5, K = 6\n",
    "#Currently can only run one position at a time. \n",
    "position = '6'\n",
    "\n",
    "for season in seasons:\n",
    "    url = f\"https://fantasydata.com/nfl/fantasy-football-leaders?position={position}&season={season}&seasontype=1&scope=1&subscope=1&startweek=1&endweek=1&aggregatescope=1&range=1\"\n",
    "    driver.get(url)\n",
    "\n",
    "    time.sleep(2)\n",
    "\n",
    "    #Slice the first 50\n",
    "    urls = [link.get_attribute('href') for link in driver.find_elements_by_xpath(\"//tbody/tr[@role='row']/td/a\")] \n",
    "\n",
    "    for link in urls[:40]:\n",
    "        driver.get(link)\n",
    "        time.sleep(2)\n",
    "        \n",
    "        actions = ActionChains(driver)\n",
    "        year = driver.find_element_by_xpath(\"(//span[@class='k-input ng-scope'])[position() = 2]\")\n",
    "        dropdown = driver.find_element_by_xpath(\"//select[@id='ddl_seasons']\")\n",
    "        \n",
    "        driver.execute_script(\"arguments[0].click();\", dropdown)\n",
    "        actions.send_keys(season)\n",
    "        time.sleep(1)\n",
    "        actions.send_keys(Keys.ENTER).perform()\n",
    "        \n",
    "        player_headers = ['WEEK','OPP','FG MADE','FG ATT','PCT','LNG','XP MADE','XP ATT','FPTS/G','FPTS']\n",
    "        player = pd.DataFrame(columns=player_headers)\n",
    "        name = driver.find_element_by_xpath(\"//h1\")\n",
    "        scores = [x.text for x in driver.find_elements_by_xpath(\"(//div[@class='k-grid-content k-auto-scrollable'])[position() = 2]/table/tbody/tr/td\")]\n",
    "        rows = [scores[i:i+len(player_headers)] for i in range(0, len(scores), len(player_headers))]\n",
    "        for row in rows:\n",
    "            player.loc[len(player.index)] = row\n",
    "        player['Name'] = name.text\n",
    "        player['Season'] = season\n",
    "        stats = pd.concat([stats, player], ignore_index=True)\n",
    "\n",
    "driver.close()"
   ]
  },
  {
   "cell_type": "code",
   "execution_count": null,
   "metadata": {
    "scrolled": true
   },
   "outputs": [],
   "source": [
    "stats"
   ]
  },
  {
   "cell_type": "code",
   "execution_count": null,
   "metadata": {},
   "outputs": [],
   "source": [
    "stats.to_excel(f\"FilePath//{position} {season[0]}-{season[-1]}.xlsx\",\n",
    "             sheet_name=f'{position} Data', index=False)"
   ]
  }
 ],
 "metadata": {
  "kernelspec": {
   "display_name": "Python 3",
   "language": "python",
   "name": "python3"
  },
  "language_info": {
   "codemirror_mode": {
    "name": "ipython",
    "version": 3
   },
   "file_extension": ".py",
   "mimetype": "text/x-python",
   "name": "python",
   "nbconvert_exporter": "python",
   "pygments_lexer": "ipython3",
   "version": "3.8.5"
  }
 },
 "nbformat": 4,
 "nbformat_minor": 4
}
